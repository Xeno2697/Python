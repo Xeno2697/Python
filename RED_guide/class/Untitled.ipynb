{
 "cells": [
  {
   "cell_type": "code",
   "execution_count": 2,
   "id": "e006d87a",
   "metadata": {},
   "outputs": [],
   "source": [
    "%load_ext cython"
   ]
  },
  {
   "cell_type": "code",
   "execution_count": 3,
   "id": "c70c7374",
   "metadata": {},
   "outputs": [],
   "source": [
    "%%cython --annotate\n",
    "cimport numpy as cnp\n",
    "import numpy as np\n",
    "import cython\n",
    "from libcpp cimport bool\n",
    "\n",
    "BLOOD_SKINNY = 0.1\n",
    "\n",
    "cdef class Field:\n",
    "    def __init__(self,mapsize:cython.int= 80):\n",
    "        self.obstacles = np.array([[0,0,0]])\n",
    "        self.walls = np.array([[0,0,0,0]])\n",
    "        self.set_wall(0,0,mapsize,0)\n",
    "        self.set_wall(0,0,0,mapsize)\n",
    "        self.set_wall(0,mapsize,mapsize,mapsize)\n",
    "        self.set_wall(mapsize,0,mapsize,mapsize)\n",
    "        self.mapsize = mapsize\n",
    "    cdef obstacle_set(self,x:cython.float,y:cython.float,r:cython.float):\n",
    "        self.obstacles = np.append(self.obstacles, np.array([[x,y,r]]), axis=0)\n",
    "        \n",
    "    cdef set_wall(self,x1:cython.float,y1:cython.float,x2:cython.float,y2:cython.float):\n",
    "        self.walls = np.append(self.walls, np.array([[x1,y1,x2,y2]]), axis=0)\n",
    "        \n",
    "    cdef bool judge_walls(self, x1:cython.float, y1:cython.float, x2:cython.float, y2:cython.float):\n",
    "        cdef:\n",
    "            float tc1\n",
    "            float tc2\n",
    "            float td1\n",
    "            float td2\n",
    "        \"\"\"壁に抵触する場合True\"\"\"\n",
    "        tc1 = (x1 - x2) * (self.walls[:,1] - y1) + (y1 - y2) * (x1 - self.walls[:,0])\n",
    "        tc2 = (x1 - x2) * (self.walls[:,3] - y1) + (y1 - y2) * (x1 - self.walls[:,2])\n",
    "        td1 = (self.walls[:,0] - self.walls[:,2]) * (y1 - self.walls[:,1]) + (self.walls[:,1] - self.walls[:,3]) * (self.walls[:,0] - x1)\n",
    "        td2 = (self.walls[:,0] - self.walls[:,2]) * (y2 - self.walls[:,1]) + (self.walls[:,1] - self.walls[:,3]) * (self.walls[:,0] - x2)\n",
    "        return np.max(((tc1*tc2)<0)*((td1*td2)<0))\n",
    "    \n",
    "    cdef bool collision_judge(self,x ,y):\n",
    "        for i in self.obstacles:\n",
    "            vec = np.array([x-i[0],y-i[1]])\n",
    "            nor = np.linalg.norm(vec,ord=2)\n",
    "            if(nor < i[2]):\n",
    "                return True\n",
    "        if(x < 0 or x > self.mapsize or y < 0 or y > self.mapsize):\n",
    "            return True\n",
    "        return False"
   ]
  },
  {
   "cell_type": "code",
   "execution_count": null,
   "id": "6ae48c61",
   "metadata": {},
   "outputs": [],
   "source": []
  },
  {
   "cell_type": "code",
   "execution_count": null,
   "id": "727ad6ee",
   "metadata": {},
   "outputs": [],
   "source": []
  },
  {
   "cell_type": "code",
   "execution_count": null,
   "id": "78d13951",
   "metadata": {},
   "outputs": [],
   "source": []
  }
 ],
 "metadata": {
  "kernelspec": {
   "display_name": "Python 3 (ipykernel)",
   "language": "python",
   "name": "python3"
  },
  "language_info": {
   "codemirror_mode": {
    "name": "ipython",
    "version": 3
   },
   "file_extension": ".py",
   "mimetype": "text/x-python",
   "name": "python",
   "nbconvert_exporter": "python",
   "pygments_lexer": "ipython3",
   "version": "3.8.10"
  }
 },
 "nbformat": 4,
 "nbformat_minor": 5
}
